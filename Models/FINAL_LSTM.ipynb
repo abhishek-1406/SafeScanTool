{
  "cells": [
    {
      "cell_type": "markdown",
      "metadata": {
        "id": "view-in-github",
        "colab_type": "text"
      },
      "source": [
        "<a href=\"https://colab.research.google.com/github/abhishek-1406/SafeScanTool/blob/main/Models/FINAL_LSTM.ipynb\" target=\"_parent\"><img src=\"https://colab.research.google.com/assets/colab-badge.svg\" alt=\"Open In Colab\"/></a>"
      ]
    },
    {
      "cell_type": "code",
      "execution_count": null,
      "metadata": {
        "colab": {
          "base_uri": "https://localhost:8080/"
        },
        "id": "mqVFwtDdawyU",
        "outputId": "ce901c03-9c37-43a2-9ebe-7e98d37ab4c5"
      },
      "outputs": [
        {
          "output_type": "stream",
          "name": "stdout",
          "text": [
            "Requirement already satisfied: tensorflow in /usr/local/lib/python3.11/dist-packages (2.19.0)\n",
            "Requirement already satisfied: absl-py>=1.0.0 in /usr/local/lib/python3.11/dist-packages (from tensorflow) (1.4.0)\n",
            "Requirement already satisfied: astunparse>=1.6.0 in /usr/local/lib/python3.11/dist-packages (from tensorflow) (1.6.3)\n",
            "Requirement already satisfied: flatbuffers>=24.3.25 in /usr/local/lib/python3.11/dist-packages (from tensorflow) (25.2.10)\n",
            "Requirement already satisfied: gast!=0.5.0,!=0.5.1,!=0.5.2,>=0.2.1 in /usr/local/lib/python3.11/dist-packages (from tensorflow) (0.6.0)\n",
            "Requirement already satisfied: google-pasta>=0.1.1 in /usr/local/lib/python3.11/dist-packages (from tensorflow) (0.2.0)\n",
            "Requirement already satisfied: libclang>=13.0.0 in /usr/local/lib/python3.11/dist-packages (from tensorflow) (18.1.1)\n",
            "Requirement already satisfied: opt-einsum>=2.3.2 in /usr/local/lib/python3.11/dist-packages (from tensorflow) (3.4.0)\n",
            "Requirement already satisfied: packaging in /usr/local/lib/python3.11/dist-packages (from tensorflow) (25.0)\n",
            "Requirement already satisfied: protobuf!=4.21.0,!=4.21.1,!=4.21.2,!=4.21.3,!=4.21.4,!=4.21.5,<6.0.0dev,>=3.20.3 in /usr/local/lib/python3.11/dist-packages (from tensorflow) (5.29.5)\n",
            "Requirement already satisfied: requests<3,>=2.21.0 in /usr/local/lib/python3.11/dist-packages (from tensorflow) (2.32.3)\n",
            "Requirement already satisfied: setuptools in /usr/local/lib/python3.11/dist-packages (from tensorflow) (75.2.0)\n",
            "Requirement already satisfied: six>=1.12.0 in /usr/local/lib/python3.11/dist-packages (from tensorflow) (1.17.0)\n",
            "Requirement already satisfied: termcolor>=1.1.0 in /usr/local/lib/python3.11/dist-packages (from tensorflow) (3.1.0)\n",
            "Requirement already satisfied: typing-extensions>=3.6.6 in /usr/local/lib/python3.11/dist-packages (from tensorflow) (4.14.1)\n",
            "Requirement already satisfied: wrapt>=1.11.0 in /usr/local/lib/python3.11/dist-packages (from tensorflow) (1.17.2)\n",
            "Requirement already satisfied: grpcio<2.0,>=1.24.3 in /usr/local/lib/python3.11/dist-packages (from tensorflow) (1.73.1)\n",
            "Requirement already satisfied: tensorboard~=2.19.0 in /usr/local/lib/python3.11/dist-packages (from tensorflow) (2.19.0)\n",
            "Requirement already satisfied: keras>=3.5.0 in /usr/local/lib/python3.11/dist-packages (from tensorflow) (3.8.0)\n",
            "Requirement already satisfied: numpy<2.2.0,>=1.26.0 in /usr/local/lib/python3.11/dist-packages (from tensorflow) (2.0.2)\n",
            "Requirement already satisfied: h5py>=3.11.0 in /usr/local/lib/python3.11/dist-packages (from tensorflow) (3.14.0)\n",
            "Requirement already satisfied: ml-dtypes<1.0.0,>=0.5.1 in /usr/local/lib/python3.11/dist-packages (from tensorflow) (0.5.1)\n",
            "Requirement already satisfied: tensorflow-io-gcs-filesystem>=0.23.1 in /usr/local/lib/python3.11/dist-packages (from tensorflow) (0.37.1)\n",
            "Requirement already satisfied: wheel<1.0,>=0.23.0 in /usr/local/lib/python3.11/dist-packages (from astunparse>=1.6.0->tensorflow) (0.45.1)\n",
            "Requirement already satisfied: rich in /usr/local/lib/python3.11/dist-packages (from keras>=3.5.0->tensorflow) (14.0.0)\n",
            "Requirement already satisfied: namex in /usr/local/lib/python3.11/dist-packages (from keras>=3.5.0->tensorflow) (0.1.0)\n",
            "Requirement already satisfied: optree in /usr/local/lib/python3.11/dist-packages (from keras>=3.5.0->tensorflow) (0.16.0)\n",
            "Requirement already satisfied: charset-normalizer<4,>=2 in /usr/local/lib/python3.11/dist-packages (from requests<3,>=2.21.0->tensorflow) (3.4.2)\n",
            "Requirement already satisfied: idna<4,>=2.5 in /usr/local/lib/python3.11/dist-packages (from requests<3,>=2.21.0->tensorflow) (3.10)\n",
            "Requirement already satisfied: urllib3<3,>=1.21.1 in /usr/local/lib/python3.11/dist-packages (from requests<3,>=2.21.0->tensorflow) (2.5.0)\n",
            "Requirement already satisfied: certifi>=2017.4.17 in /usr/local/lib/python3.11/dist-packages (from requests<3,>=2.21.0->tensorflow) (2025.7.14)\n",
            "Requirement already satisfied: markdown>=2.6.8 in /usr/lib/python3/dist-packages (from tensorboard~=2.19.0->tensorflow) (3.3.6)\n",
            "Requirement already satisfied: tensorboard-data-server<0.8.0,>=0.7.0 in /usr/local/lib/python3.11/dist-packages (from tensorboard~=2.19.0->tensorflow) (0.7.2)\n",
            "Requirement already satisfied: werkzeug>=1.0.1 in /usr/local/lib/python3.11/dist-packages (from tensorboard~=2.19.0->tensorflow) (3.1.3)\n",
            "Requirement already satisfied: MarkupSafe>=2.1.1 in /usr/local/lib/python3.11/dist-packages (from werkzeug>=1.0.1->tensorboard~=2.19.0->tensorflow) (3.0.2)\n",
            "Requirement already satisfied: markdown-it-py>=2.2.0 in /usr/local/lib/python3.11/dist-packages (from rich->keras>=3.5.0->tensorflow) (3.0.0)\n",
            "Requirement already satisfied: pygments<3.0.0,>=2.13.0 in /usr/local/lib/python3.11/dist-packages (from rich->keras>=3.5.0->tensorflow) (2.19.2)\n",
            "Requirement already satisfied: mdurl~=0.1 in /usr/local/lib/python3.11/dist-packages (from markdown-it-py>=2.2.0->rich->keras>=3.5.0->tensorflow) (0.1.2)\n"
          ]
        }
      ],
      "source": [
        "!pip install tensorflow"
      ]
    },
    {
      "cell_type": "code",
      "execution_count": null,
      "metadata": {
        "id": "pH-BhJZCSYO_"
      },
      "outputs": [],
      "source": [
        "import pandas as pd\n",
        "import numpy as np\n",
        "import re\n",
        "from sklearn.model_selection import train_test_split\n",
        "from sklearn.metrics import classification_report, confusion_matrix\n",
        "from sklearn.utils import class_weight\n",
        "import matplotlib.pyplot as plt\n",
        "import tensorflow as tf\n",
        "from tensorflow.keras.preprocessing.text import Tokenizer\n",
        "from tensorflow.keras.preprocessing.sequence import pad_sequences\n",
        "from tensorflow.keras.models import Sequential\n",
        "from tensorflow.keras.layers import Embedding, LSTM, Dense, Dropout, Bidirectional\n",
        "from tensorflow.keras.utils import to_categorical"
      ]
    },
    {
      "cell_type": "markdown",
      "metadata": {
        "id": "MMMTTjiqTULB"
      },
      "source": [
        "Reading the dataset and mapping the labels into numerical figures and doing some mild cleaning"
      ]
    },
    {
      "cell_type": "code",
      "execution_count": null,
      "metadata": {
        "colab": {
          "base_uri": "https://localhost:8080/"
        },
        "id": "WIAQ1XCzSwb_",
        "outputId": "c5e3b58e-c345-449f-ad96-ce1ad8b685c3"
      },
      "outputs": [
        {
          "name": "stdout",
          "output_type": "stream",
          "text": [
            "Label Distribution:\n",
            " label\n",
            "1    24670\n",
            "0    12896\n",
            "2     7365\n",
            "Name: count, dtype: int64\n"
          ]
        }
      ],
      "source": [
        "df = pd.read_csv('/content/drive/MyDrive/Colab Notebooks/updated_hatexplain_data.csv')\n",
        "\n",
        "label_mapping = {'normal': 0, 'offensive': 1, 'hatespeech': 2}\n",
        "df['label'] = df['majority_label'].map(label_mapping)\n",
        "print(\"Label Distribution:\\n\", df['label'].value_counts())\n",
        "\n",
        "def mild_clean_text(text):\n",
        "    if not isinstance(text, str):\n",
        "        return ''\n",
        "    text = text.lower()\n",
        "    text = re.sub(r\"http\\S+\", \"\", text)\n",
        "    text = re.sub(r\"@\\w+\", \"\", text)\n",
        "    text = re.sub(r\"\\s+\", \" \", text).strip()\n",
        "    return text\n",
        "\n",
        "df['cleaned_text'] = df['cleaned_text'].apply(mild_clean_text)"
      ]
    },
    {
      "cell_type": "markdown",
      "metadata": {
        "id": "oVHUZ1JdTj9I"
      },
      "source": [
        "TOKENIZATION AND PADDING"
      ]
    },
    {
      "cell_type": "code",
      "execution_count": null,
      "metadata": {
        "id": "-Xnfja4_TEG9"
      },
      "outputs": [],
      "source": [
        "texts = df['cleaned_text'].astype(str).tolist()\n",
        "labels = df['label'].astype(int).tolist()\n",
        "\n",
        "max_vocab = 10000\n",
        "max_length = 50\n",
        "\n",
        "tokenizer = Tokenizer(num_words=max_vocab, oov_token=\"<OOV>\")\n",
        "tokenizer.fit_on_texts(texts)\n",
        "sequences = tokenizer.texts_to_sequences(texts)\n",
        "padded = pad_sequences(sequences, maxlen=max_length, padding='post', truncating='post')\n",
        "\n",
        "labels_cat = to_categorical(labels, num_classes=3)\n",
        "\n",
        "X_train, X_test, y_train, y_test = train_test_split(\n",
        "    padded, labels_cat, test_size=0.2, random_state=42, stratify=labels\n",
        ")"
      ]
    },
    {
      "cell_type": "markdown",
      "metadata": {
        "id": "i4dkXW_BTq5U"
      },
      "source": [
        "Downloading GloVe package"
      ]
    },
    {
      "cell_type": "code",
      "execution_count": null,
      "metadata": {
        "id": "9_nQAGeBTbAK"
      },
      "outputs": [],
      "source": [
        "!wget -q http://nlp.stanford.edu/data/glove.6B.zip\n",
        "!unzip -q glove.6B.zip"
      ]
    },
    {
      "cell_type": "markdown",
      "metadata": {
        "id": "M7oQrrw6T8mA"
      },
      "source": [
        "Applying word embedding"
      ]
    },
    {
      "cell_type": "code",
      "execution_count": null,
      "metadata": {
        "id": "uq9dd1kkUSgo"
      },
      "outputs": [],
      "source": [
        "embedding_dim = 100\n",
        "embeddings_index = {}\n",
        "with open('glove.6B.100d.txt', encoding='utf-8') as f:\n",
        "    for line in f:\n",
        "        values = line.split()\n",
        "        word = values[0]\n",
        "        coeffs = np.asarray(values[1:], dtype='float32')\n",
        "        embeddings_index[word] = coeffs\n",
        "print(f'Loaded {len(embeddings_index)} word vectors.')\n",
        "\n",
        "word_index = tokenizer.word_index\n",
        "num_words = min(max_vocab, len(word_index) + 1)\n",
        "embedding_matrix = np.zeros((num_words, embedding_dim))\n",
        "for word, i in word_index.items():\n",
        "    if i < num_words:\n",
        "        embedding_vector = embeddings_index.get(word)\n",
        "        if embedding_vector is not None:\n",
        "            embedding_matrix[i] = embedding_vector"
      ]
    },
    {
      "cell_type": "markdown",
      "metadata": {
        "id": "8YkV8yCsUMjk"
      },
      "source": [
        "Building Bi-LSTM Model"
      ]
    },
    {
      "cell_type": "code",
      "execution_count": null,
      "metadata": {
        "id": "InqJTcfLUdS7"
      },
      "outputs": [],
      "source": [
        "model = Sequential([\n",
        "    Embedding(input_dim=num_words, output_dim=embedding_dim,\n",
        "              weights=[embedding_matrix], input_length=max_length, trainable=False),\n",
        "    Bidirectional(LSTM(64, return_sequences=True)),  # BiLSTM 1\n",
        "    Dropout(0.3),\n",
        "    Bidirectional(LSTM(32)),  # BiLSTM 2\n",
        "    Dropout(0.3),\n",
        "    Dense(64, activation='relu'),\n",
        "    Dropout(0.3),\n",
        "    Dense(3, activation='softmax')\n",
        "])\n",
        "model.compile(loss='categorical_crossentropy', optimizer='adam', metrics=['accuracy'])\n",
        "model.summary()"
      ]
    },
    {
      "cell_type": "markdown",
      "metadata": {
        "id": "4g2QiTOgUR8K"
      },
      "source": [
        "Handling class imbalance"
      ]
    },
    {
      "cell_type": "code",
      "execution_count": null,
      "metadata": {
        "id": "gGWqyr5KUxZs"
      },
      "outputs": [],
      "source": [
        "y_train_single = np.argmax(y_train, axis=1)\n",
        "class_weights = class_weight.compute_class_weight('balanced', classes=np.unique(y_train_single), y=y_train_single)\n",
        "class_weights_dict = dict(enumerate(class_weights))\n",
        "print(\"Class Weights:\", class_weights_dict)"
      ]
    },
    {
      "cell_type": "markdown",
      "metadata": {
        "id": "NwDIaZp-UU4C"
      },
      "source": [
        "Model training"
      ]
    },
    {
      "cell_type": "code",
      "execution_count": null,
      "metadata": {
        "colab": {
          "base_uri": "https://localhost:8080/"
        },
        "id": "_ErCLrc5U34o",
        "outputId": "daafff38-f202-4f27-8e1f-41df1113c713"
      },
      "outputs": [
        {
          "output_type": "stream",
          "name": "stdout",
          "text": [
            "Epoch 1/40\n",
            "\u001b[1m450/450\u001b[0m \u001b[32m━━━━━━━━━━━━━━━━━━━━\u001b[0m\u001b[37m\u001b[0m \u001b[1m26s\u001b[0m 59ms/step - accuracy: 0.8742 - loss: 0.2557 - val_accuracy: 0.7516 - val_loss: 0.8824\n",
            "Epoch 2/40\n",
            "\u001b[1m450/450\u001b[0m \u001b[32m━━━━━━━━━━━━━━━━━━━━\u001b[0m\u001b[37m\u001b[0m \u001b[1m26s\u001b[0m 58ms/step - accuracy: 0.8756 - loss: 0.2485 - val_accuracy: 0.7491 - val_loss: 0.9055\n",
            "Epoch 3/40\n",
            "\u001b[1m450/450\u001b[0m \u001b[32m━━━━━━━━━━━━━━━━━━━━\u001b[0m\u001b[37m\u001b[0m \u001b[1m26s\u001b[0m 58ms/step - accuracy: 0.8781 - loss: 0.2512 - val_accuracy: 0.7445 - val_loss: 0.8839\n",
            "Epoch 4/40\n",
            "\u001b[1m450/450\u001b[0m \u001b[32m━━━━━━━━━━━━━━━━━━━━\u001b[0m\u001b[37m\u001b[0m \u001b[1m26s\u001b[0m 58ms/step - accuracy: 0.8870 - loss: 0.2293 - val_accuracy: 0.7417 - val_loss: 0.9860\n",
            "Epoch 5/40\n",
            "\u001b[1m450/450\u001b[0m \u001b[32m━━━━━━━━━━━━━━━━━━━━\u001b[0m\u001b[37m\u001b[0m \u001b[1m26s\u001b[0m 58ms/step - accuracy: 0.8861 - loss: 0.2233 - val_accuracy: 0.7175 - val_loss: 0.9723\n",
            "Epoch 6/40\n",
            "\u001b[1m450/450\u001b[0m \u001b[32m━━━━━━━━━━━━━━━━━━━━\u001b[0m\u001b[37m\u001b[0m \u001b[1m26s\u001b[0m 58ms/step - accuracy: 0.8927 - loss: 0.2115 - val_accuracy: 0.7507 - val_loss: 1.0140\n",
            "Epoch 7/40\n",
            "\u001b[1m450/450\u001b[0m \u001b[32m━━━━━━━━━━━━━━━━━━━━\u001b[0m\u001b[37m\u001b[0m \u001b[1m26s\u001b[0m 58ms/step - accuracy: 0.8951 - loss: 0.2117 - val_accuracy: 0.7505 - val_loss: 1.0707\n",
            "Epoch 8/40\n",
            "\u001b[1m450/450\u001b[0m \u001b[32m━━━━━━━━━━━━━━━━━━━━\u001b[0m\u001b[37m\u001b[0m \u001b[1m26s\u001b[0m 58ms/step - accuracy: 0.9039 - loss: 0.1986 - val_accuracy: 0.7492 - val_loss: 1.0637\n",
            "Epoch 9/40\n",
            "\u001b[1m450/450\u001b[0m \u001b[32m━━━━━━━━━━━━━━━━━━━━\u001b[0m\u001b[37m\u001b[0m \u001b[1m26s\u001b[0m 58ms/step - accuracy: 0.9050 - loss: 0.1948 - val_accuracy: 0.7363 - val_loss: 1.0706\n",
            "Epoch 10/40\n",
            "\u001b[1m450/450\u001b[0m \u001b[32m━━━━━━━━━━━━━━━━━━━━\u001b[0m\u001b[37m\u001b[0m \u001b[1m26s\u001b[0m 58ms/step - accuracy: 0.9109 - loss: 0.1807 - val_accuracy: 0.7463 - val_loss: 1.1205\n",
            "Epoch 11/40\n",
            "\u001b[1m450/450\u001b[0m \u001b[32m━━━━━━━━━━━━━━━━━━━━\u001b[0m\u001b[37m\u001b[0m \u001b[1m26s\u001b[0m 58ms/step - accuracy: 0.9137 - loss: 0.1831 - val_accuracy: 0.7422 - val_loss: 0.9836\n",
            "Epoch 12/40\n",
            "\u001b[1m450/450\u001b[0m \u001b[32m━━━━━━━━━━━━━━━━━━━━\u001b[0m\u001b[37m\u001b[0m \u001b[1m26s\u001b[0m 58ms/step - accuracy: 0.9206 - loss: 0.1683 - val_accuracy: 0.7382 - val_loss: 1.0802\n",
            "Epoch 13/40\n",
            "\u001b[1m450/450\u001b[0m \u001b[32m━━━━━━━━━━━━━━━━━━━━\u001b[0m\u001b[37m\u001b[0m \u001b[1m26s\u001b[0m 58ms/step - accuracy: 0.9208 - loss: 0.1676 - val_accuracy: 0.7442 - val_loss: 1.1594\n",
            "Epoch 14/40\n",
            "\u001b[1m450/450\u001b[0m \u001b[32m━━━━━━━━━━━━━━━━━━━━\u001b[0m\u001b[37m\u001b[0m \u001b[1m26s\u001b[0m 58ms/step - accuracy: 0.9241 - loss: 0.1614 - val_accuracy: 0.7500 - val_loss: 1.2057\n",
            "Epoch 15/40\n",
            "\u001b[1m450/450\u001b[0m \u001b[32m━━━━━━━━━━━━━━━━━━━━\u001b[0m\u001b[37m\u001b[0m \u001b[1m26s\u001b[0m 58ms/step - accuracy: 0.9309 - loss: 0.1528 - val_accuracy: 0.7414 - val_loss: 1.2536\n",
            "Epoch 16/40\n",
            "\u001b[1m450/450\u001b[0m \u001b[32m━━━━━━━━━━━━━━━━━━━━\u001b[0m\u001b[37m\u001b[0m \u001b[1m26s\u001b[0m 58ms/step - accuracy: 0.9338 - loss: 0.1441 - val_accuracy: 0.7332 - val_loss: 1.2921\n",
            "Epoch 17/40\n",
            "\u001b[1m450/450\u001b[0m \u001b[32m━━━━━━━━━━━━━━━━━━━━\u001b[0m\u001b[37m\u001b[0m \u001b[1m26s\u001b[0m 58ms/step - accuracy: 0.9404 - loss: 0.1320 - val_accuracy: 0.7436 - val_loss: 1.3099\n",
            "Epoch 18/40\n",
            "\u001b[1m450/450\u001b[0m \u001b[32m━━━━━━━━━━━━━━━━━━━━\u001b[0m\u001b[37m\u001b[0m \u001b[1m26s\u001b[0m 58ms/step - accuracy: 0.9380 - loss: 0.1398 - val_accuracy: 0.7422 - val_loss: 1.2270\n",
            "Epoch 19/40\n",
            "\u001b[1m450/450\u001b[0m \u001b[32m━━━━━━━━━━━━━━━━━━━━\u001b[0m\u001b[37m\u001b[0m \u001b[1m26s\u001b[0m 58ms/step - accuracy: 0.9422 - loss: 0.1258 - val_accuracy: 0.7372 - val_loss: 1.2886\n",
            "Epoch 20/40\n",
            "\u001b[1m450/450\u001b[0m \u001b[32m━━━━━━━━━━━━━━━━━━━━\u001b[0m\u001b[37m\u001b[0m \u001b[1m26s\u001b[0m 58ms/step - accuracy: 0.9436 - loss: 0.1274 - val_accuracy: 0.7403 - val_loss: 1.2951\n",
            "Epoch 21/40\n",
            "\u001b[1m450/450\u001b[0m \u001b[32m━━━━━━━━━━━━━━━━━━━━\u001b[0m\u001b[37m\u001b[0m \u001b[1m26s\u001b[0m 58ms/step - accuracy: 0.9472 - loss: 0.1170 - val_accuracy: 0.7417 - val_loss: 1.2876\n",
            "Epoch 22/40\n",
            "\u001b[1m450/450\u001b[0m \u001b[32m━━━━━━━━━━━━━━━━━━━━\u001b[0m\u001b[37m\u001b[0m \u001b[1m26s\u001b[0m 58ms/step - accuracy: 0.9455 - loss: 0.1150 - val_accuracy: 0.7345 - val_loss: 1.3418\n",
            "Epoch 23/40\n",
            "\u001b[1m450/450\u001b[0m \u001b[32m━━━━━━━━━━━━━━━━━━━━\u001b[0m\u001b[37m\u001b[0m \u001b[1m26s\u001b[0m 58ms/step - accuracy: 0.9454 - loss: 0.1207 - val_accuracy: 0.7420 - val_loss: 1.4332\n",
            "Epoch 24/40\n",
            "\u001b[1m450/450\u001b[0m \u001b[32m━━━━━━━━━━━━━━━━━━━━\u001b[0m\u001b[37m\u001b[0m \u001b[1m26s\u001b[0m 58ms/step - accuracy: 0.9500 - loss: 0.1102 - val_accuracy: 0.7345 - val_loss: 1.3014\n",
            "Epoch 25/40\n",
            "\u001b[1m450/450\u001b[0m \u001b[32m━━━━━━━━━━━━━━━━━━━━\u001b[0m\u001b[37m\u001b[0m \u001b[1m26s\u001b[0m 58ms/step - accuracy: 0.9506 - loss: 0.1117 - val_accuracy: 0.7407 - val_loss: 1.4949\n",
            "Epoch 26/40\n",
            "\u001b[1m450/450\u001b[0m \u001b[32m━━━━━━━━━━━━━━━━━━━━\u001b[0m\u001b[37m\u001b[0m \u001b[1m26s\u001b[0m 58ms/step - accuracy: 0.9551 - loss: 0.1069 - val_accuracy: 0.7349 - val_loss: 1.3959\n",
            "Epoch 27/40\n",
            "\u001b[1m450/450\u001b[0m \u001b[32m━━━━━━━━━━━━━━━━━━━━\u001b[0m\u001b[37m\u001b[0m \u001b[1m26s\u001b[0m 58ms/step - accuracy: 0.9561 - loss: 0.0990 - val_accuracy: 0.7409 - val_loss: 1.4776\n",
            "Epoch 28/40\n",
            "\u001b[1m450/450\u001b[0m \u001b[32m━━━━━━━━━━━━━━━━━━━━\u001b[0m\u001b[37m\u001b[0m \u001b[1m26s\u001b[0m 58ms/step - accuracy: 0.9537 - loss: 0.1016 - val_accuracy: 0.7370 - val_loss: 1.4132\n",
            "Epoch 29/40\n",
            "\u001b[1m450/450\u001b[0m \u001b[32m━━━━━━━━━━━━━━━━━━━━\u001b[0m\u001b[37m\u001b[0m \u001b[1m26s\u001b[0m 58ms/step - accuracy: 0.9587 - loss: 0.0930 - val_accuracy: 0.7313 - val_loss: 1.4868\n",
            "Epoch 30/40\n",
            "\u001b[1m450/450\u001b[0m \u001b[32m━━━━━━━━━━━━━━━━━━━━\u001b[0m\u001b[37m\u001b[0m \u001b[1m26s\u001b[0m 58ms/step - accuracy: 0.9602 - loss: 0.0914 - val_accuracy: 0.7325 - val_loss: 1.5261\n",
            "Epoch 31/40\n",
            "\u001b[1m450/450\u001b[0m \u001b[32m━━━━━━━━━━━━━━━━━━━━\u001b[0m\u001b[37m\u001b[0m \u001b[1m26s\u001b[0m 59ms/step - accuracy: 0.9665 - loss: 0.0747 - val_accuracy: 0.7372 - val_loss: 1.4349\n",
            "Epoch 32/40\n",
            "\u001b[1m450/450\u001b[0m \u001b[32m━━━━━━━━━━━━━━━━━━━━\u001b[0m\u001b[37m\u001b[0m \u001b[1m26s\u001b[0m 58ms/step - accuracy: 0.9593 - loss: 0.0891 - val_accuracy: 0.7307 - val_loss: 1.5004\n",
            "Epoch 33/40\n",
            "\u001b[1m450/450\u001b[0m \u001b[32m━━━━━━━━━━━━━━━━━━━━\u001b[0m\u001b[37m\u001b[0m \u001b[1m26s\u001b[0m 58ms/step - accuracy: 0.9637 - loss: 0.0802 - val_accuracy: 0.7358 - val_loss: 1.4780\n",
            "Epoch 34/40\n",
            "\u001b[1m450/450\u001b[0m \u001b[32m━━━━━━━━━━━━━━━━━━━━\u001b[0m\u001b[37m\u001b[0m \u001b[1m26s\u001b[0m 58ms/step - accuracy: 0.9646 - loss: 0.0843 - val_accuracy: 0.7413 - val_loss: 1.5372\n",
            "Epoch 35/40\n",
            "\u001b[1m450/450\u001b[0m \u001b[32m━━━━━━━━━━━━━━━━━━━━\u001b[0m\u001b[37m\u001b[0m \u001b[1m26s\u001b[0m 58ms/step - accuracy: 0.9684 - loss: 0.0715 - val_accuracy: 0.7328 - val_loss: 1.5945\n",
            "Epoch 36/40\n",
            "\u001b[1m450/450\u001b[0m \u001b[32m━━━━━━━━━━━━━━━━━━━━\u001b[0m\u001b[37m\u001b[0m \u001b[1m26s\u001b[0m 58ms/step - accuracy: 0.9705 - loss: 0.0687 - val_accuracy: 0.7397 - val_loss: 1.5390\n",
            "Epoch 37/40\n",
            "\u001b[1m450/450\u001b[0m \u001b[32m━━━━━━━━━━━━━━━━━━━━\u001b[0m\u001b[37m\u001b[0m \u001b[1m26s\u001b[0m 58ms/step - accuracy: 0.9670 - loss: 0.0778 - val_accuracy: 0.7317 - val_loss: 1.5228\n",
            "Epoch 38/40\n",
            "\u001b[1m450/450\u001b[0m \u001b[32m━━━━━━━━━━━━━━━━━━━━\u001b[0m\u001b[37m\u001b[0m \u001b[1m26s\u001b[0m 58ms/step - accuracy: 0.9686 - loss: 0.0718 - val_accuracy: 0.7324 - val_loss: 1.6459\n",
            "Epoch 39/40\n",
            "\u001b[1m450/450\u001b[0m \u001b[32m━━━━━━━━━━━━━━━━━━━━\u001b[0m\u001b[37m\u001b[0m \u001b[1m26s\u001b[0m 58ms/step - accuracy: 0.9712 - loss: 0.0673 - val_accuracy: 0.7324 - val_loss: 1.6248\n",
            "Epoch 40/40\n",
            "\u001b[1m450/450\u001b[0m \u001b[32m━━━━━━━━━━━━━━━━━━━━\u001b[0m\u001b[37m\u001b[0m \u001b[1m26s\u001b[0m 58ms/step - accuracy: 0.9675 - loss: 0.0762 - val_accuracy: 0.7378 - val_loss: 1.6142\n"
          ]
        }
      ],
      "source": [
        "history = model.fit(\n",
        "    X_train, y_train,\n",
        "    epochs=40,\n",
        "    batch_size=64,\n",
        "    validation_split=0.2,\n",
        "    class_weight=class_weights_dict\n",
        ")"
      ]
    },
    {
      "cell_type": "markdown",
      "metadata": {
        "id": "biwSGGn_UZzl"
      },
      "source": [
        "Evaluation and Results"
      ]
    },
    {
      "cell_type": "code",
      "execution_count": null,
      "metadata": {
        "colab": {
          "base_uri": "https://localhost:8080/",
          "height": 686
        },
        "id": "MmvTCRAXVQZA",
        "outputId": "7df43b18-cf10-43e9-ca4a-1449dd497c89"
      },
      "outputs": [
        {
          "output_type": "stream",
          "name": "stdout",
          "text": [
            "\u001b[1m281/281\u001b[0m \u001b[32m━━━━━━━━━━━━━━━━━━━━\u001b[0m\u001b[37m\u001b[0m \u001b[1m4s\u001b[0m 13ms/step\n",
            "\n",
            "Classification Report:\n",
            "               precision    recall  f1-score   support\n",
            "\n",
            "      Normal       0.68      0.70      0.69      2579\n",
            "   Offensive       0.83      0.80      0.82      4935\n",
            "  HateSpeech       0.59      0.61      0.60      1473\n",
            "\n",
            "    accuracy                           0.74      8987\n",
            "   macro avg       0.70      0.71      0.70      8987\n",
            "weighted avg       0.75      0.74      0.75      8987\n",
            "\n",
            "Confusion Matrix:\n",
            " [[1812  521  246]\n",
            " [ 592 3972  371]\n",
            " [ 254  317  902]]\n"
          ]
        },
        {
          "output_type": "display_data",
          "data": {
            "text/plain": [
              "<Figure size 1200x400 with 2 Axes>"
            ],
            "image/png": "[encoded data removed]"
          },
          "metadata": {}
        }
      ],
      "source": [
        "y_pred_prob = model.predict(X_test)\n",
        "y_pred = np.argmax(y_pred_prob, axis=1)\n",
        "y_true = np.argmax(y_test, axis=1)\n",
        "\n",
        "print(\"\\nClassification Report:\\n\", classification_report(\n",
        "    y_true, y_pred, target_names=[\"Normal\", \"Offensive\", \"HateSpeech\"]))\n",
        "print(\"Confusion Matrix:\\n\", confusion_matrix(y_true, y_pred))\n",
        "\n",
        "plt.figure(figsize=(12,4))\n",
        "plt.subplot(1,2,1)\n",
        "plt.plot(history.history['loss'], label='Train')\n",
        "plt.plot(history.history['val_loss'], label='Val')\n",
        "plt.title('Loss')\n",
        "plt.legend()\n",
        "plt.subplot(1,2,2)\n",
        "plt.plot(history.history['accuracy'], label='Train')\n",
        "plt.plot(history.history['val_accuracy'], label='Val')\n",
        "plt.title('Accuracy')\n",
        "plt.legend()\n",
        "plt.show()"
      ]
    },
    {
      "cell_type": "markdown",
      "metadata": {
        "id": "uIb2PSxYUkd9"
      },
      "source": [
        "Save model and tokenizer"
      ]
    },
    {
      "cell_type": "code",
      "source": [
        "model.save(\"bilstm_hatexplain_3class.h5\")\n",
        "import joblib\n",
        "joblib.dump(tokenizer, \"tokenizer.pkl\")"
      ],
      "metadata": {
        "id": "PzA61rrczRkC"
      },
      "execution_count": null,
      "outputs": []
    },
    {
      "cell_type": "markdown",
      "metadata": {
        "id": "wVElW6V4UpVx"
      },
      "source": [
        "Loading model and testing with input comments"
      ]
    },
    {
      "cell_type": "code",
      "source": [
        "label_reverse = {0: \"Normal\", 1: \"Offensive\", 2: \"HateSpeech\"}\n",
        "\n",
        "def predict_hate_bilstm(text, model, tokenizer, max_length=50):\n",
        "    text_cleaned = mild_clean_text(text)\n",
        "    seq = tokenizer.texts_to_sequences([text_cleaned])\n",
        "    padded = pad_sequences(seq, maxlen=max_length, padding='post', truncating='post')\n",
        "    pred = model.predict(padded)\n",
        "    label_idx = np.argmax(pred)\n",
        "    print(f\"Text: {text}\\nPrediction: {label_reverse[label_idx]} (Scores: {pred[0]})\\n\")\n",
        "\n",
        "test_comments = [\n",
        "\"Thats fucking cool\"\n",
        "\n",
        "]\n",
        "\n",
        "for comment in test_comments:\n",
        "    predict_hate_bilstm(comment, model, tokenizer, max_length)"
      ],
      "metadata": {
        "id": "Njqksx6jzTup"
      },
      "execution_count": null,
      "outputs": []
    },
    {
      "cell_type": "markdown",
      "source": [
        "FLASK API WITH SHAP"
      ],
      "metadata": {
        "id": "c0tjwp6X2WQI"
      }
    },
    {
      "cell_type": "code",
      "execution_count": null,
      "metadata": {
        "id": "81ca0766"
      },
      "outputs": [],
      "source": [
        "!pip install flask-ngrok"
      ]
    },
    {
      "cell_type": "code",
      "execution_count": null,
      "metadata": {
        "id": "fc281d9b"
      },
      "outputs": [],
      "source": [
        "from flask_ngrok import run_with_ngrok\n",
        "\n",
        "run_with_ngrok(app)\n",
        "app.run()"
      ]
    },
    {
      "cell_type": "code",
      "source": [
        "from flask import Flask, request, jsonify\n",
        "import joblib\n",
        "from flask_cors import CORS\n",
        "import re\n",
        "import numpy as np\n",
        "import shap\n",
        "import tensorflow as tf\n",
        "from tensorflow.keras.preprocessing.sequence import pad_sequences\n",
        "\n",
        "# ================================\n",
        "# 1. Load Model & Tokenizer\n",
        "# ================================\n",
        "model = tf.keras.models.load_model(\"bilstm_hatexplain_3class.h5\")\n",
        "tokenizer = joblib.load(\"tokenizer.pkl\")\n",
        "\n",
        "label_reverse = {0: \"Normal\", 1: \"Offensive\", 2: \"HateSpeech\"}\n",
        "max_length = 50  # must match training\n",
        "\n",
        "# ================================\n",
        "# 2. Text Preprocessing\n",
        "# ================================\n",
        "def mild_clean_text(text):\n",
        "    if not isinstance(text, str):\n",
        "        return ''\n",
        "    text = text.lower()\n",
        "    text = re.sub(r\"http\\S+\", \"\", text)\n",
        "    text = re.sub(r\"@\\w+\", \"\", text)\n",
        "    text = re.sub(r\"\\s+\", \" \", text).strip()\n",
        "    return text\n",
        "\n",
        "def predict_hate_bilstm(text):\n",
        "    text_cleaned = mild_clean_text(text)\n",
        "    seq = tokenizer.texts_to_sequences([text_cleaned])\n",
        "    padded = pad_sequences(seq, maxlen=max_length, padding='post', truncating='post')\n",
        "    pred = model.predict(padded)\n",
        "    label_idx = np.argmax(pred)\n",
        "    return label_reverse[label_idx], pred[0].tolist(), seq, padded\n",
        "\n",
        "# ================================\n",
        "# 3. SHAP Explainability (GradientExplainer Per Token)\n",
        "# ================================\n",
        "def explain_text_with_shap(text):\n",
        "    prediction, scores, seq, padded = predict_hate_bilstm(text)\n",
        "\n",
        "    # ✅ GradientExplainer directly on full model\n",
        "    background = np.zeros((1, max_length), dtype=np.int32)\n",
        "    explainer = shap.GradientExplainer(model, background)\n",
        "    shap_values = explainer.shap_values(padded)\n",
        "\n",
        "    predicted_class = np.argmax(scores)\n",
        "\n",
        "    # ✅ Map token IDs to words\n",
        "    index_word = {v: k for k, v in tokenizer.word_index.items()}\n",
        "    tokens = [index_word.get(idx, \"\") for idx in seq[0] if idx != 0]\n",
        "\n",
        "    # ✅ SHAP returns importance per timestep → take only valid tokens\n",
        "    # shap_values[predicted_class][0] shape = (max_length,)\n",
        "    token_shap_values = shap_values[predicted_class][0][:len(tokens)]\n",
        "\n",
        "    # ✅ Sort top tokens\n",
        "    top_tokens = sorted(\n",
        "        zip(tokens, token_shap_values),\n",
        "        key=lambda x: abs(x[1]),\n",
        "        reverse=True\n",
        "    )[:10]\n",
        "\n",
        "    return prediction, scores, [{\"word\": w, \"shap_value\": round(float(v), 4)} for w, v in top_tokens]\n",
        "\n",
        "# ================================\n",
        "# 4. Flask App\n",
        "# ================================\n",
        "app = Flask(__name__)\n",
        "CORS(app)\n",
        "\n",
        "@app.route('/predict', methods=['POST'])\n",
        "def predict():\n",
        "    data = request.get_json(force=True)\n",
        "    text = data['text']\n",
        "    prediction, scores, top_features = explain_text_with_shap(text)\n",
        "    return jsonify({\n",
        "        'text': text,\n",
        "        'prediction': prediction,\n",
        "        'scores': scores,\n",
        "        'top_features': top_features\n",
        "    })\n",
        "\n",
        "if __name__ == '__main__':\n",
        "    print(\"🚀 Server is running on http://127.0.0.1:5003\")\n",
        "    app.run(debug=True, port=5003)\n"
      ],
      "metadata": {
        "id": "tcYhgbZ4NZQA"
      },
      "execution_count": null,
      "outputs": []
    }
  ],
  "metadata": {
    "accelerator": "TPU",
    "colab": {
      "gpuType": "V28",
      "machine_shape": "hm",
      "provenance": [],
      "mount_file_id": "1tVrK_2O8mvfzlLe5r0dHay2a1Wauo_Sn",
      "authorship_tag": "ABX9TyOmTddGeecXY3/CLoDBTbYj",
      "include_colab_link": true
    },
    "kernelspec": {
      "display_name": "Python 3",
      "name": "python3"
    },
    "language_info": {
      "name": "python"
    }
  },
  "nbformat": 4,
  "nbformat_minor": 0
}